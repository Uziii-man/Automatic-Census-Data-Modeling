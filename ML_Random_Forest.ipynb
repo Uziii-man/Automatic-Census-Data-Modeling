{
 "cells": [
  {
   "cell_type": "markdown",
   "id": "bd8adac1-6405-435d-a245-0289ce71152f",
   "metadata": {},
   "source": [
    "### Importing necessary library"
   ]
  },
  {
   "cell_type": "code",
   "execution_count": 1,
   "id": "6c690210-bc4c-49ff-a2c7-c915e37e88c4",
   "metadata": {},
   "outputs": [],
   "source": [
    "import pandas as pd\n",
    "\n",
    "from sklearn.preprocessing import LabelEncoder\n",
    "from sklearn.model_selection import train_test_split\n",
    "\n",
    "from sklearn.ensemble import RandomForestClassifier\n",
    "from sklearn.tree import DecisionTreeClassifier, export_graphviz\n",
    "from sklearn import metrics\n",
    "\n",
    "from sklearn.preprocessing import OneHotEncoder\n",
    "\n",
    "import seaborn as sns\n",
    "import matplotlib.pyplot as plt\n",
    "from sklearn.metrics import accuracy_score, classification_report, confusion_matrix"
   ]
  },
  {
   "cell_type": "markdown",
   "id": "d3543198-e6ba-4056-95a5-a4ae5b4938e7",
   "metadata": {},
   "source": [
    "### Load the CSV file"
   ]
  },
  {
   "cell_type": "code",
   "execution_count": 2,
   "id": "93edc606-8de8-4cc9-9fc7-7a187fb7bce7",
   "metadata": {},
   "outputs": [],
   "source": [
    "CSV_DataFrame = pd.read_csv(\"adult.csv\")"
   ]
  },
  {
   "cell_type": "code",
   "execution_count": 3,
   "id": "4bf66c9a-7c6f-4fd2-a657-ced7bfba897c",
   "metadata": {},
   "outputs": [],
   "source": [
    "# Classes in the data set\n",
    "classes = [\">50K\", \"<=50K\" ]"
   ]
  },
  {
   "cell_type": "markdown",
   "id": "1aca2a10-5e0b-4e0a-8d8f-43a3ad3efbb6",
   "metadata": {},
   "source": [
    "### Encoding the data"
   ]
  },
  {
   "cell_type": "code",
   "execution_count": 4,
   "id": "91c38ca0-4f9e-4e98-a669-91144bc6e714",
   "metadata": {},
   "outputs": [],
   "source": [
    "# # Initialize LabelEncoder\n",
    "# label_encoder = LabelEncoder()\n",
    "\n",
    "# categorical_columns = [\"work_class\", \"education\", \"marital_status\", \"occupation\", \"relationship\", \"race\", \"sex\", \"native_country\"]\n",
    "\n",
    "# # Iterate over each categorical column and encode its values\n",
    "# for column in categorical_columns:\n",
    "#     CSV_DataFrame[column] = label_encoder.fit_transform(CSV_DataFrame[column])\n",
    "#     print(f\"Encoded labels for column '{column}': {label_encoder.classes_}\")"
   ]
  },
  {
   "cell_type": "markdown",
   "id": "faa8abc0-a09d-4c02-b6eb-315baf681c07",
   "metadata": {},
   "source": [
    "### Feeding the data into the model to train"
   ]
  },
  {
   "cell_type": "code",
   "execution_count": 5,
   "id": "d0fe3a12-4239-49d2-b393-e7331978f14f",
   "metadata": {},
   "outputs": [],
   "source": [
    "# Separate features and target variable\n",
    "X = CSV_DataFrame.drop(columns=['income'])\n",
    "y = CSV_DataFrame['income']"
   ]
  },
  {
   "cell_type": "code",
   "execution_count": 6,
   "id": "3def9475-6bb3-4add-b800-48d3c834510f",
   "metadata": {},
   "outputs": [],
   "source": [
    "# Split the data into training and testing sets\n",
    "X_train, X_test, y_train, y_test = train_test_split(X, y, test_size=0.2, random_state=69)"
   ]
  },
  {
   "cell_type": "markdown",
   "id": "d7f6eef0-e562-49c3-8a30-8e861e3b7f85",
   "metadata": {},
   "source": [
    "### With no over-sampled data"
   ]
  },
  {
   "cell_type": "code",
   "execution_count": 7,
   "id": "9035e7a5-e56b-4f00-9e27-2e5d6e3c5918",
   "metadata": {},
   "outputs": [
    {
     "name": "stdout",
     "output_type": "stream",
     "text": [
      "income\n",
      "0    7398\n",
      "1    2256\n",
      "Name: count, dtype: int64\n"
     ]
    }
   ],
   "source": [
    "income_counts = y_test.value_counts()\n",
    "print(income_counts)"
   ]
  },
  {
   "cell_type": "code",
   "execution_count": 8,
   "id": "abeae532-8989-45b8-a931-ff2c53bcb538",
   "metadata": {},
   "outputs": [],
   "source": [
    "random_forest_classifier = RandomForestClassifier(random_state=69)\n",
    "\n",
    "# Train the classifier on the resampled training data\n",
    "random_forest_classifier.fit(X_train, y_train)\n",
    "\n",
    "# prediction\n",
    "y_pred = random_forest_classifier.predict(X_test)"
   ]
  },
  {
   "cell_type": "markdown",
   "id": "56626a11-da18-4b91-b2a8-a06db9ee9c51",
   "metadata": {},
   "source": [
    "#### Evaluation Matrix and Classification Report no oversampled model"
   ]
  },
  {
   "cell_type": "code",
   "execution_count": 9,
   "id": "3177824d-0f85-4e03-b461-48fac2d12aac",
   "metadata": {},
   "outputs": [
    {
     "name": "stdout",
     "output_type": "stream",
     "text": [
      "Accuracy: 0.8467992541951522\n"
     ]
    }
   ],
   "source": [
    "# Evaluate the model\n",
    "accuracy = accuracy_score(y_test, y_pred)\n",
    "print(\"Accuracy:\", accuracy)"
   ]
  },
  {
   "cell_type": "code",
   "execution_count": 10,
   "id": "e1b98040-ad6d-4d66-b819-c90ac24b160e",
   "metadata": {},
   "outputs": [
    {
     "name": "stdout",
     "output_type": "stream",
     "text": [
      "Classification Report:\n"
     ]
    },
    {
     "data": {
      "text/html": [
       "<div>\n",
       "<style scoped>\n",
       "    .dataframe tbody tr th:only-of-type {\n",
       "        vertical-align: middle;\n",
       "    }\n",
       "\n",
       "    .dataframe tbody tr th {\n",
       "        vertical-align: top;\n",
       "    }\n",
       "\n",
       "    .dataframe thead th {\n",
       "        text-align: right;\n",
       "    }\n",
       "</style>\n",
       "<table border=\"1\" class=\"dataframe\">\n",
       "  <thead>\n",
       "    <tr style=\"text-align: right;\">\n",
       "      <th></th>\n",
       "      <th>&lt;=50K</th>\n",
       "      <th>&gt;50K</th>\n",
       "      <th>accuracy</th>\n",
       "      <th>macro avg</th>\n",
       "      <th>weighted avg</th>\n",
       "    </tr>\n",
       "  </thead>\n",
       "  <tbody>\n",
       "    <tr>\n",
       "      <th>precision</th>\n",
       "      <td>0.694932</td>\n",
       "      <td>0.886307</td>\n",
       "      <td>0.846799</td>\n",
       "      <td>0.790620</td>\n",
       "      <td>0.841586</td>\n",
       "    </tr>\n",
       "    <tr>\n",
       "      <th>recall</th>\n",
       "      <td>0.613918</td>\n",
       "      <td>0.917816</td>\n",
       "      <td>0.846799</td>\n",
       "      <td>0.765867</td>\n",
       "      <td>0.846799</td>\n",
       "    </tr>\n",
       "    <tr>\n",
       "      <th>f1-score</th>\n",
       "      <td>0.651918</td>\n",
       "      <td>0.901786</td>\n",
       "      <td>0.846799</td>\n",
       "      <td>0.776852</td>\n",
       "      <td>0.843396</td>\n",
       "    </tr>\n",
       "    <tr>\n",
       "      <th>support</th>\n",
       "      <td>2256.000000</td>\n",
       "      <td>7398.000000</td>\n",
       "      <td>0.846799</td>\n",
       "      <td>9654.000000</td>\n",
       "      <td>9654.000000</td>\n",
       "    </tr>\n",
       "  </tbody>\n",
       "</table>\n",
       "</div>"
      ],
      "text/plain": [
       "                 <=50K         >50K  accuracy    macro avg  weighted avg\n",
       "precision     0.694932     0.886307  0.846799     0.790620      0.841586\n",
       "recall        0.613918     0.917816  0.846799     0.765867      0.846799\n",
       "f1-score      0.651918     0.901786  0.846799     0.776852      0.843396\n",
       "support    2256.000000  7398.000000  0.846799  9654.000000   9654.000000"
      ]
     },
     "execution_count": 10,
     "metadata": {},
     "output_type": "execute_result"
    }
   ],
   "source": [
    "# Print classification report\n",
    "print(\"Classification Report:\")\n",
    "\n",
    "actual_classes = [classes[x] for x in y_test]\n",
    "predicted_classes = [classes[x] for x in y_pred]\n",
    "\n",
    "report_dict = classification_report(actual_classes, predicted_classes, output_dict=True)\n",
    "classification_df = pd.DataFrame(report_dict)\n",
    "classification_df"
   ]
  },
  {
   "cell_type": "code",
   "execution_count": 11,
   "id": "c13bfc74-ffd9-455d-bf33-67b31b9863f2",
   "metadata": {},
   "outputs": [
    {
     "name": "stdout",
     "output_type": "stream",
     "text": [
      "Confusion Matrix:\n"
     ]
    },
    {
     "data": {
      "text/plain": [
       "<Figure size 800x600 with 0 Axes>"
      ]
     },
     "execution_count": 11,
     "metadata": {},
     "output_type": "execute_result"
    },
    {
     "data": {
      "image/png": "[encoded data removed]",
      "text/plain": [
       "<Figure size 640x480 with 2 Axes>"
      ]
     },
     "metadata": {},
     "output_type": "display_data"
    },
    {
     "data": {
      "text/plain": [
       "<Figure size 800x600 with 0 Axes>"
      ]
     },
     "metadata": {},
     "output_type": "display_data"
    }
   ],
   "source": [
    "# Generate confusion matrix\n",
    "print(\"Confusion Matrix:\")\n",
    "\n",
    "conf_matrix = confusion_matrix(y_test, y_pred)\n",
    "sns.heatmap(conf_matrix, annot=True, fmt=\"d\", cmap=\"Blues\", xticklabels=classes, yticklabels=classes)\n",
    "\n",
    "plt.xlabel('Predicted')\n",
    "plt.ylabel('Actual')\n",
    "plt.figure(figsize = (8,6))"
   ]
  },
  {
   "cell_type": "markdown",
   "id": "a72252e1-1a1f-4ca0-9132-c5ad592f8d11",
   "metadata": {},
   "source": [
    "#### With over-sampling of data"
   ]
  },
  {
   "cell_type": "code",
   "execution_count": 12,
   "id": "1ad740b2-51b9-43ad-8c56-2a0dd9fcea2f",
   "metadata": {},
   "outputs": [],
   "source": [
    "from imblearn.over_sampling import SMOTE\n",
    "\n",
    "# Over sampling applying only for the training dataset\n",
    "# Apply SMOTE for oversampling\n",
    "smote = SMOTE(random_state=69)\n",
    "X_train_resampled, y_train_resampled = smote.fit_resample(X_train, y_train)"
   ]
  },
  {
   "cell_type": "code",
   "execution_count": 13,
   "id": "961a02c9-73f0-41f6-8464-cb4467fd6de3",
   "metadata": {},
   "outputs": [],
   "source": [
    "random_forest_classifier_oversample = RandomForestClassifier(random_state=69)\n",
    "\n",
    "# Train the classifier on the resampled training data\n",
    "random_forest_classifier_oversample.fit(X_train_resampled, y_train_resampled)\n",
    "\n",
    "# prediction\n",
    "y_pred = random_forest_classifier_oversample.predict(X_test)"
   ]
  },
  {
   "cell_type": "markdown",
   "id": "77d3b0a8-de39-40d9-8646-686ddb2cea34",
   "metadata": {},
   "source": [
    "#### Evaluation Matrix and Classification Report over-sampled model"
   ]
  },
  {
   "cell_type": "code",
   "execution_count": 14,
   "id": "41b67bfe-856f-455e-a506-c4f8f94d1fb8",
   "metadata": {},
   "outputs": [
    {
     "name": "stdout",
     "output_type": "stream",
     "text": [
      "Accuracy: 0.8395483737310959\n"
     ]
    }
   ],
   "source": [
    "# Evaluate the model\n",
    "accuracy = accuracy_score(y_test, y_pred)\n",
    "print(\"Accuracy:\", accuracy)"
   ]
  },
  {
   "cell_type": "code",
   "execution_count": 15,
   "id": "fbdbdaae-7659-4b43-bda6-de197d3ac041",
   "metadata": {},
   "outputs": [
    {
     "name": "stdout",
     "output_type": "stream",
     "text": [
      "Classification Report:\n"
     ]
    },
    {
     "data": {
      "text/html": [
       "<div>\n",
       "<style scoped>\n",
       "    .dataframe tbody tr th:only-of-type {\n",
       "        vertical-align: middle;\n",
       "    }\n",
       "\n",
       "    .dataframe tbody tr th {\n",
       "        vertical-align: top;\n",
       "    }\n",
       "\n",
       "    .dataframe thead th {\n",
       "        text-align: right;\n",
       "    }\n",
       "</style>\n",
       "<table border=\"1\" class=\"dataframe\">\n",
       "  <thead>\n",
       "    <tr style=\"text-align: right;\">\n",
       "      <th></th>\n",
       "      <th>&lt;=50K</th>\n",
       "      <th>&gt;50K</th>\n",
       "      <th>accuracy</th>\n",
       "      <th>macro avg</th>\n",
       "      <th>weighted avg</th>\n",
       "    </tr>\n",
       "  </thead>\n",
       "  <tbody>\n",
       "    <tr>\n",
       "      <th>precision</th>\n",
       "      <td>0.658591</td>\n",
       "      <td>0.893872</td>\n",
       "      <td>0.839548</td>\n",
       "      <td>0.776232</td>\n",
       "      <td>0.838890</td>\n",
       "    </tr>\n",
       "    <tr>\n",
       "      <th>recall</th>\n",
       "      <td>0.650709</td>\n",
       "      <td>0.897134</td>\n",
       "      <td>0.839548</td>\n",
       "      <td>0.773922</td>\n",
       "      <td>0.839548</td>\n",
       "    </tr>\n",
       "    <tr>\n",
       "      <th>f1-score</th>\n",
       "      <td>0.654627</td>\n",
       "      <td>0.895500</td>\n",
       "      <td>0.839548</td>\n",
       "      <td>0.775063</td>\n",
       "      <td>0.839212</td>\n",
       "    </tr>\n",
       "    <tr>\n",
       "      <th>support</th>\n",
       "      <td>2256.000000</td>\n",
       "      <td>7398.000000</td>\n",
       "      <td>0.839548</td>\n",
       "      <td>9654.000000</td>\n",
       "      <td>9654.000000</td>\n",
       "    </tr>\n",
       "  </tbody>\n",
       "</table>\n",
       "</div>"
      ],
      "text/plain": [
       "                 <=50K         >50K  accuracy    macro avg  weighted avg\n",
       "precision     0.658591     0.893872  0.839548     0.776232      0.838890\n",
       "recall        0.650709     0.897134  0.839548     0.773922      0.839548\n",
       "f1-score      0.654627     0.895500  0.839548     0.775063      0.839212\n",
       "support    2256.000000  7398.000000  0.839548  9654.000000   9654.000000"
      ]
     },
     "execution_count": 15,
     "metadata": {},
     "output_type": "execute_result"
    }
   ],
   "source": [
    "# Print classification report\n",
    "print(\"Classification Report:\")\n",
    "\n",
    "actual_classes = [classes[x] for x in y_test]\n",
    "predicted_classes = [classes[x] for x in y_pred]\n",
    "\n",
    "report_dict = classification_report(actual_classes, predicted_classes, output_dict=True)\n",
    "classification_df = pd.DataFrame(report_dict)\n",
    "classification_df"
   ]
  },
  {
   "cell_type": "code",
   "execution_count": 16,
   "id": "0148381e-4b31-4815-b9b1-92f321db5578",
   "metadata": {},
   "outputs": [
    {
     "name": "stdout",
     "output_type": "stream",
     "text": [
      "Confusion Matrix:\n"
     ]
    },
    {
     "data": {
      "text/plain": [
       "<Figure size 800x600 with 0 Axes>"
      ]
     },
     "execution_count": 16,
     "metadata": {},
     "output_type": "execute_result"
    },
    {
     "data": {
      "image/png": "[encoded data removed]",
      "text/plain": [
       "<Figure size 640x480 with 2 Axes>"
      ]
     },
     "metadata": {},
     "output_type": "display_data"
    },
    {
     "data": {
      "text/plain": [
       "<Figure size 800x600 with 0 Axes>"
      ]
     },
     "metadata": {},
     "output_type": "display_data"
    }
   ],
   "source": [
    "# Generate confusion matrix\n",
    "print(\"Confusion Matrix:\")\n",
    "\n",
    "conf_matrix = confusion_matrix(y_test, y_pred)\n",
    "sns.heatmap(conf_matrix, annot=True, fmt=\"d\", cmap=\"Blues\", xticklabels=classes, yticklabels=classes)\n",
    "\n",
    "plt.xlabel('Predicted')\n",
    "plt.ylabel('Actual')\n",
    "plt.figure(figsize = (8,6))"
   ]
  },
  {
   "cell_type": "markdown",
   "id": "6acf9004-699a-475b-8314-632e896c9d33",
   "metadata": {},
   "source": [
    "#### Saving the random forest model"
   ]
  },
  {
   "cell_type": "code",
   "execution_count": 17,
   "id": "4a508372-cd72-48eb-9066-81e6ee97cc32",
   "metadata": {},
   "outputs": [
    {
     "data": {
      "text/plain": [
       "['random_forest_model.pkl']"
      ]
     },
     "execution_count": 17,
     "metadata": {},
     "output_type": "execute_result"
    }
   ],
   "source": [
    "from joblib import dump\n",
    "\n",
    "# Save Random Forest model\n",
    "dump(random_forest_classifier, 'random_forest_model.pkl')"
   ]
  },
  {
   "cell_type": "code",
   "execution_count": null,
   "id": "8749b4c2-0e16-42e4-ad10-bb216fcf6ce7",
   "metadata": {},
   "outputs": [],
   "source": []
  }
 ],
 "metadata": {
  "kernelspec": {
   "display_name": "Python 3 (ipykernel)",
   "language": "python",
   "name": "python3"
  },
  "language_info": {
   "codemirror_mode": {
    "name": "ipython",
    "version": 3
   },
   "file_extension": ".py",
   "mimetype": "text/x-python",
   "name": "python",
   "nbconvert_exporter": "python",
   "pygments_lexer": "ipython3",
   "version": "3.9.18"
  }
 },
 "nbformat": 4,
 "nbformat_minor": 5
}
