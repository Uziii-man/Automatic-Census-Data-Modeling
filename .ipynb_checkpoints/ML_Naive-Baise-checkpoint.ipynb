{
 "cells": [
  {
   "cell_type": "markdown",
   "id": "c3aea01b-ac40-4992-be6e-5e3e855cdb6b",
   "metadata": {},
   "source": [
    "### Importing necessary library"
   ]
  },
  {
   "cell_type": "code",
   "execution_count": 1,
   "id": "52da3df7-4329-43e1-a7b3-95a0873e8d2b",
   "metadata": {},
   "outputs": [],
   "source": [
    "import pandas as pd\n",
    "\n",
    "from imblearn.over_sampling import SMOTE\n",
    "from sklearn.preprocessing import LabelEncoder\n",
    "from sklearn.model_selection import train_test_split\n",
    "\n",
    "from sklearn.naive_bayes import BernoulliNB\n",
    "from sklearn.naive_bayes import GaussianNB\n",
    "\n",
    "import seaborn as sns\n",
    "import matplotlib.pyplot as plt\n",
    "\n",
    "from sklearn.metrics import accuracy_score, classification_report, confusion_matrix\n"
   ]
  },
  {
   "cell_type": "markdown",
   "id": "4061ad91-f41e-4842-ad94-b1a9503b1bcc",
   "metadata": {},
   "source": [
    "### Load the CSV file"
   ]
  },
  {
   "cell_type": "code",
   "execution_count": 2,
   "id": "18378f14-9387-422b-b97b-acaa105eda2f",
   "metadata": {},
   "outputs": [],
   "source": [
    "CSV_DataFrame = pd.read_csv(\"adult.csv\")"
   ]
  },
  {
   "cell_type": "code",
   "execution_count": 3,
   "id": "4b8816dc-6615-4be2-992a-4a87a2f1a962",
   "metadata": {},
   "outputs": [],
   "source": [
    "# Classes in the data set\n",
    "classes = [\"<=50K\", \">50K\"]"
   ]
  },
  {
   "cell_type": "markdown",
   "id": "d3d77973-2655-4652-a273-7215378b9acd",
   "metadata": {},
   "source": [
    "### Encoding the data"
   ]
  },
  {
   "cell_type": "code",
   "execution_count": 4,
   "id": "7a551ab3-36d3-43e2-8544-1badd9cbd581",
   "metadata": {},
   "outputs": [],
   "source": [
    "# # Initialize LabelEncoder\n",
    "# label_encoder = LabelEncoder()\n",
    "\n",
    "# categorical_columns = [\"work_class\", \"education\", \"marital_status\", \"occupation\", \"relationship\", \"race\", \"sex\", \"native_country\"]\n",
    "\n",
    "# # Iterate over each categorical column and encode its values\n",
    "# for column in categorical_columns:\n",
    "#     CSV_DataFrame[column] = label_encoder.fit_transform(CSV_DataFrame[column])\n",
    "#     print(f\"Encoded labels for '{column}': {label_encoder.classes_}\")"
   ]
  },
  {
   "cell_type": "markdown",
   "id": "bb7207cf-8481-4ee5-847e-bc19437783bf",
   "metadata": {},
   "source": [
    "### Handling the data imbalance for the target variable (Income)"
   ]
  },
  {
   "cell_type": "code",
   "execution_count": 5,
   "id": "f2e1e085-8807-4502-a3e5-3fd81cd2b9b7",
   "metadata": {},
   "outputs": [
    {
     "name": "stdout",
     "output_type": "stream",
     "text": [
      "income\n",
      "0    36913\n",
      "1    11354\n",
      "Name: count, dtype: int64\n"
     ]
    }
   ],
   "source": [
    "# Printing the value count\n",
    "income_counts = CSV_DataFrame['income'].value_counts()\n",
    "print(income_counts)"
   ]
  },
  {
   "cell_type": "code",
   "execution_count": 6,
   "id": "d610a916-1b80-4845-a54b-82c2035a6b5a",
   "metadata": {},
   "outputs": [],
   "source": [
    "# Separate features and target variable\n",
    "X = CSV_DataFrame.drop(columns=['income'])\n",
    "y = CSV_DataFrame['income']"
   ]
  },
  {
   "cell_type": "code",
   "execution_count": 7,
   "id": "580ab86d-3333-4b01-be7b-c9e548fd3dcb",
   "metadata": {},
   "outputs": [],
   "source": [
    "# Split the data into training and testing sets\n",
    "X_train, X_test, y_train, y_test = train_test_split(X, y, test_size=0.2, random_state=42)"
   ]
  },
  {
   "cell_type": "code",
   "execution_count": 8,
   "id": "b5111d3d-a20b-4c86-9530-7db871d0cddf",
   "metadata": {},
   "outputs": [
    {
     "name": "stdout",
     "output_type": "stream",
     "text": [
      "income\n",
      "0    29534\n",
      "1     9079\n",
      "Name: count, dtype: int64\n"
     ]
    }
   ],
   "source": [
    "income_counts = y_train.value_counts()\n",
    "print(income_counts)"
   ]
  },
  {
   "cell_type": "code",
   "execution_count": 9,
   "id": "68f69090-f3af-4491-8c45-0f2ee1b7d1e8",
   "metadata": {},
   "outputs": [],
   "source": [
    "from imblearn.over_sampling import SMOTE\n",
    "\n",
    "# Over sampling applying only for the training dataset\n",
    "# Apply SMOTE for oversampling\n",
    "smote = SMOTE(random_state=69)\n",
    "X_train_resampled, y_train_resampled = smote.fit_resample(X_train, y_train)"
   ]
  },
  {
   "cell_type": "code",
   "execution_count": 10,
   "id": "3fd50702-cb49-43fc-88ae-68d8376667e5",
   "metadata": {},
   "outputs": [
    {
     "name": "stdout",
     "output_type": "stream",
     "text": [
      "income\n",
      "0    29534\n",
      "1    29534\n",
      "Name: count, dtype: int64\n"
     ]
    }
   ],
   "source": [
    "income_counts = y_train_resampled.value_counts()\n",
    "print(income_counts)"
   ]
  },
  {
   "cell_type": "code",
   "execution_count": 11,
   "id": "4f914418-eea6-4a81-bfc5-73e2264af0dd",
   "metadata": {},
   "outputs": [
    {
     "name": "stdout",
     "output_type": "stream",
     "text": [
      "income\n",
      "0    29534\n",
      "1     9079\n",
      "Name: count, dtype: int64\n"
     ]
    }
   ],
   "source": [
    "income_counts = y_train.value_counts()\n",
    "print(income_counts)"
   ]
  },
  {
   "cell_type": "code",
   "execution_count": 12,
   "id": "6f7b5388-2ed9-4725-b8fd-61182cbccc11",
   "metadata": {},
   "outputs": [
    {
     "name": "stdout",
     "output_type": "stream",
     "text": [
      "income\n",
      "0    7379\n",
      "1    2275\n",
      "Name: count, dtype: int64\n"
     ]
    }
   ],
   "source": [
    "income_counts = y_test.value_counts()\n",
    "print(income_counts)"
   ]
  },
  {
   "cell_type": "markdown",
   "id": "56d09cfe-960d-4f53-9b68-98e6e23cd04d",
   "metadata": {},
   "source": [
    "### Feeding the data into the model to train"
   ]
  },
  {
   "cell_type": "markdown",
   "id": "6a11ced4-14fd-4a96-b840-a140bec43ce0",
   "metadata": {},
   "source": [
    "#### Model without hyper parameter tuning"
   ]
  },
  {
   "cell_type": "code",
   "execution_count": 13,
   "id": "bcb06478-65a0-44db-bb9e-a81b8f89888e",
   "metadata": {},
   "outputs": [
    {
     "name": "stdout",
     "output_type": "stream",
     "text": [
      "Accuracy: 0.7750155376009944\n"
     ]
    }
   ],
   "source": [
    "# Train Naive Bayes Classifier\n",
    "naive_bayes_classifier = BernoulliNB()\n",
    "naive_bayes_classifier.fit(X_train, y_train)\n",
    "\n",
    "# Make Predictions\n",
    "y_pred = naive_bayes_classifier.predict(X_test)\n",
    "accuracy = accuracy_score(y_test, y_pred)\n",
    "print(\"Accuracy:\", accuracy)"
   ]
  },
  {
   "cell_type": "code",
   "execution_count": 14,
   "id": "3ba390f8-f979-46b0-a6ae-9859410cff68",
   "metadata": {},
   "outputs": [
    {
     "name": "stdout",
     "output_type": "stream",
     "text": [
      "Classification Report:\n",
      "              precision    recall  f1-score   support\n",
      "\n",
      "           0       0.82      0.91      0.86      7379\n",
      "           1       0.54      0.34      0.42      2275\n",
      "\n",
      "    accuracy                           0.78      9654\n",
      "   macro avg       0.68      0.63      0.64      9654\n",
      "weighted avg       0.75      0.78      0.76      9654\n",
      "\n",
      "Confusion Matrix:\n"
     ]
    },
    {
     "data": {
      "text/plain": [
       "<Figure size 800x600 with 0 Axes>"
      ]
     },
     "execution_count": 14,
     "metadata": {},
     "output_type": "execute_result"
    },
    {
     "data": {
      "image/png": "[encoded data removed]",
      "text/plain": [
       "<Figure size 640x480 with 2 Axes>"
      ]
     },
     "metadata": {},
     "output_type": "display_data"
    },
    {
     "data": {
      "text/plain": [
       "<Figure size 800x600 with 0 Axes>"
      ]
     },
     "metadata": {},
     "output_type": "display_data"
    }
   ],
   "source": [
    "# Print classification report\n",
    "print(\"Classification Report:\")\n",
    "print(classification_report(y_test, y_pred))\n",
    "\n",
    "# Generate confusion matrix\n",
    "print(\"Confusion Matrix:\")\n",
    "\n",
    "conf_matrix = confusion_matrix(y_test, y_pred)\n",
    "sns.heatmap(conf_matrix, annot=True, fmt=\"d\", cmap=\"Blues\", xticklabels=classes, yticklabels=classes)\n",
    "\n",
    "plt.xlabel('Predicted')\n",
    "plt.ylabel('Actual')\n",
    "plt.figure(figsize = (8,6))"
   ]
  },
  {
   "cell_type": "code",
   "execution_count": 15,
   "id": "4c869978-027e-4435-a447-7f45199af977",
   "metadata": {
    "scrolled": true
   },
   "outputs": [
    {
     "name": "stdout",
     "output_type": "stream",
     "text": [
      "Accuracy: 0.6796146674953387\n"
     ]
    }
   ],
   "source": [
    "# Train Naive Bayes Classifier\n",
    "naive_bayes_classifier = BernoulliNB()\n",
    "naive_bayes_classifier.fit(X_train_resampled, y_train_resampled)\n",
    "\n",
    "# Make Predictions\n",
    "y_pred = naive_bayes_classifier.predict(X_test)\n",
    "accuracy = accuracy_score(y_test, y_pred)\n",
    "print(\"Accuracy:\", accuracy)"
   ]
  },
  {
   "cell_type": "code",
   "execution_count": 16,
   "id": "87b68e9a-6949-448e-bccc-537cf60573bf",
   "metadata": {},
   "outputs": [
    {
     "name": "stdout",
     "output_type": "stream",
     "text": [
      "Classification Report:\n",
      "              precision    recall  f1-score   support\n",
      "\n",
      "           0       0.92      0.64      0.75      7379\n",
      "           1       0.41      0.81      0.54      2275\n",
      "\n",
      "    accuracy                           0.68      9654\n",
      "   macro avg       0.66      0.72      0.65      9654\n",
      "weighted avg       0.80      0.68      0.70      9654\n",
      "\n",
      "Confusion Matrix:\n"
     ]
    },
    {
     "data": {
      "text/plain": [
       "<Figure size 800x600 with 0 Axes>"
      ]
     },
     "execution_count": 16,
     "metadata": {},
     "output_type": "execute_result"
    },
    {
     "data": {
      "image/png": "[encoded data removed]",
      "text/plain": [
       "<Figure size 640x480 with 2 Axes>"
      ]
     },
     "metadata": {},
     "output_type": "display_data"
    },
    {
     "data": {
      "text/plain": [
       "<Figure size 800x600 with 0 Axes>"
      ]
     },
     "metadata": {},
     "output_type": "display_data"
    }
   ],
   "source": [
    "# Print classification report\n",
    "print(\"Classification Report:\")\n",
    "print(classification_report(y_test, y_pred))\n",
    "\n",
    "# Generate confusion matrix\n",
    "print(\"Confusion Matrix:\")\n",
    "\n",
    "conf_matrix = confusion_matrix(y_test, y_pred)\n",
    "sns.heatmap(conf_matrix, annot=True, fmt=\"d\", cmap=\"Blues\", xticklabels=classes, yticklabels=classes)\n",
    "\n",
    "plt.xlabel('Predicted')\n",
    "plt.ylabel('Actual')\n",
    "plt.figure(figsize = (8,6))"
   ]
  },
  {
   "cell_type": "markdown",
   "id": "105956c7-4ff8-44d3-860a-6e7dc56c18f4",
   "metadata": {},
   "source": [
    "#### Model with hyper parameter tuning"
   ]
  },
  {
   "cell_type": "code",
   "execution_count": 17,
   "id": "1668b83d-1808-4a2d-8461-31e1f3966d77",
   "metadata": {},
   "outputs": [
    {
     "name": "stdout",
     "output_type": "stream",
     "text": [
      "Best Parameters: {'alpha': 0.1, 'binarize': 0.5}\n"
     ]
    }
   ],
   "source": [
    "from sklearn.model_selection import GridSearchCV\n",
    "\n",
    "# Define the parameter grid\n",
    "param_grid = {'alpha': [0.1, 0.5, 1.0],\n",
    "              'binarize': [0.0, 0.5, 1.0]}\n",
    "\n",
    "# Instantiate the GridSearchCV object\n",
    "grid_search = GridSearchCV(estimator=BernoulliNB(), param_grid=param_grid, cv=5)\n",
    "\n",
    "# Perform grid search\n",
    "grid_search.fit(X_train_resampled, y_train_resampled)\n",
    "\n",
    "# Get the best parameters\n",
    "best_params = grid_search.best_params_\n",
    "print(\"Best Parameters:\", best_params)\n"
   ]
  },
  {
   "cell_type": "code",
   "execution_count": 18,
   "id": "febff7c7-0808-4284-bc5e-cc7b4d8987bb",
   "metadata": {},
   "outputs": [
    {
     "name": "stdout",
     "output_type": "stream",
     "text": [
      "Accuracy: 0.6699813548788067\n"
     ]
    }
   ],
   "source": [
    "# Instantiate Bernoulli Naive Bayes classifier with the best parameters\n",
    "best_naive_bayes_classifier = BernoulliNB(alpha=best_params['alpha'], binarize=best_params['binarize'])\n",
    "\n",
    "# Train the classifier on the training data\n",
    "best_naive_bayes_classifier.fit(X_train_resampled, y_train_resampled)\n",
    "\n",
    "# Make predictions on the test data\n",
    "y_pred = best_naive_bayes_classifier.predict(X_test)\n",
    "\n",
    "# Evaluate the model performance (e.g., accuracy)\n",
    "accuracy = best_naive_bayes_classifier.score(X_test, y_test)\n",
    "print(\"Accuracy:\", accuracy)"
   ]
  },
  {
   "cell_type": "code",
   "execution_count": 19,
   "id": "ae5e874d-01bd-4b61-b2f0-0882f7066b37",
   "metadata": {},
   "outputs": [
    {
     "name": "stdout",
     "output_type": "stream",
     "text": [
      "Classification Report:\n",
      "              precision    recall  f1-score   support\n",
      "\n",
      "           0       0.92      0.62      0.74      7379\n",
      "           1       0.40      0.82      0.54      2275\n",
      "\n",
      "    accuracy                           0.67      9654\n",
      "   macro avg       0.66      0.72      0.64      9654\n",
      "weighted avg       0.80      0.67      0.69      9654\n",
      "\n",
      "Confusion Matrix:\n"
     ]
    },
    {
     "data": {
      "text/plain": [
       "<Figure size 800x600 with 0 Axes>"
      ]
     },
     "execution_count": 19,
     "metadata": {},
     "output_type": "execute_result"
    },
    {
     "data": {
      "image/png": "[encoded data removed]",
      "text/plain": [
       "<Figure size 640x480 with 2 Axes>"
      ]
     },
     "metadata": {},
     "output_type": "display_data"
    },
    {
     "data": {
      "text/plain": [
       "<Figure size 800x600 with 0 Axes>"
      ]
     },
     "metadata": {},
     "output_type": "display_data"
    }
   ],
   "source": [
    "# Print classification report\n",
    "print(\"Classification Report:\")\n",
    "print(classification_report(y_test, y_pred))\n",
    "\n",
    "# Generate confusion matrix\n",
    "print(\"Confusion Matrix:\")\n",
    "\n",
    "conf_matrix = confusion_matrix(y_test, y_pred)\n",
    "sns.heatmap(conf_matrix, annot=True, fmt=\"d\", cmap=\"Blues\", xticklabels=classes, yticklabels=classes)\n",
    "\n",
    "plt.xlabel('Predicted')\n",
    "plt.ylabel('Actual')\n",
    "plt.figure(figsize = (8,6))"
   ]
  },
  {
   "cell_type": "code",
   "execution_count": 20,
   "id": "1b14404e-5e64-45ca-9847-9aef0a996a23",
   "metadata": {},
   "outputs": [
    {
     "name": "stdout",
     "output_type": "stream",
     "text": [
      "Accuracy: 0.7711829293557074\n"
     ]
    }
   ],
   "source": [
    "# Instantiate Bernoulli Naive Bayes classifier with the best parameters\n",
    "best_naive_bayes_classifier = BernoulliNB(alpha=best_params['alpha'], binarize=best_params['binarize'])\n",
    "\n",
    "# Train the classifier on the training data\n",
    "best_naive_bayes_classifier.fit(X_train, y_train)\n",
    "\n",
    "# Make predictions on the test data\n",
    "y_pred = best_naive_bayes_classifier.predict(X_test)\n",
    "\n",
    "# Evaluate the model performance (e.g., accuracy)\n",
    "accuracy = best_naive_bayes_classifier.score(X_test, y_test)\n",
    "print(\"Accuracy:\", accuracy)"
   ]
  },
  {
   "cell_type": "code",
   "execution_count": 21,
   "id": "e5ffcbc2-c73a-43fb-b4c1-e52b9809568f",
   "metadata": {},
   "outputs": [
    {
     "name": "stdout",
     "output_type": "stream",
     "text": [
      "Classification Report:\n",
      "              precision    recall  f1-score   support\n",
      "\n",
      "           0       0.85      0.86      0.85      7379\n",
      "           1       0.52      0.49      0.50      2275\n",
      "\n",
      "    accuracy                           0.77      9654\n",
      "   macro avg       0.68      0.67      0.68      9654\n",
      "weighted avg       0.77      0.77      0.77      9654\n",
      "\n",
      "Confusion Matrix:\n"
     ]
    },
    {
     "data": {
      "text/plain": [
       "<Figure size 800x600 with 0 Axes>"
      ]
     },
     "execution_count": 21,
     "metadata": {},
     "output_type": "execute_result"
    },
    {
     "data": {
      "image/png": "[encoded data removed]",
      "text/plain": [
       "<Figure size 640x480 with 2 Axes>"
      ]
     },
     "metadata": {},
     "output_type": "display_data"
    },
    {
     "data": {
      "text/plain": [
       "<Figure size 800x600 with 0 Axes>"
      ]
     },
     "metadata": {},
     "output_type": "display_data"
    }
   ],
   "source": [
    "# Print classification report\n",
    "print(\"Classification Report:\")\n",
    "print(classification_report(y_test, y_pred))\n",
    "\n",
    "# Generate confusion matrix\n",
    "print(\"Confusion Matrix:\")\n",
    "\n",
    "conf_matrix = confusion_matrix(y_test, y_pred)\n",
    "sns.heatmap(conf_matrix, annot=True, fmt=\"d\", cmap=\"Blues\", xticklabels=classes, yticklabels=classes)\n",
    "\n",
    "plt.xlabel('Predicted')\n",
    "plt.ylabel('Actual')\n",
    "plt.figure(figsize = (8,6))"
   ]
  },
  {
   "cell_type": "markdown",
   "id": "f024cb98-1786-4d37-9f78-9c0ae4f68361",
   "metadata": {},
   "source": [
    "### Saving the Naive baise model"
   ]
  },
  {
   "cell_type": "markdown",
   "id": "bf83548e-fae5-41cd-811e-44a9ef808560",
   "metadata": {},
   "source": [
    "Saving the model that has the best trade of for precision and recall"
   ]
  },
  {
   "cell_type": "code",
   "execution_count": 22,
   "id": "7443ca54-8845-4c8a-af11-25eeacf07df1",
   "metadata": {},
   "outputs": [
    {
     "data": {
      "text/plain": [
       "['naive_bayes_model.pkl']"
      ]
     },
     "execution_count": 22,
     "metadata": {},
     "output_type": "execute_result"
    }
   ],
   "source": [
    "from joblib import dump\n",
    "\n",
    "# Save Naïve Bayes model\n",
    "dump(best_naive_bayes_classifier, 'naive_bayes_model.pkl')\n"
   ]
  },
  {
   "cell_type": "code",
   "execution_count": null,
   "id": "692fb2b6-1539-4341-a15f-9fb26b86db8d",
   "metadata": {},
   "outputs": [],
   "source": []
  }
 ],
 "metadata": {
  "kernelspec": {
   "display_name": "Python 3 (ipykernel)",
   "language": "python",
   "name": "python3"
  },
  "language_info": {
   "codemirror_mode": {
    "name": "ipython",
    "version": 3
   },
   "file_extension": ".py",
   "mimetype": "text/x-python",
   "name": "python",
   "nbconvert_exporter": "python",
   "pygments_lexer": "ipython3",
   "version": "3.9.18"
  }
 },
 "nbformat": 4,
 "nbformat_minor": 5
}
