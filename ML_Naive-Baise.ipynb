{
 "cells": [
  {
   "cell_type": "markdown",
   "id": "c3aea01b-ac40-4992-be6e-5e3e855cdb6b",
   "metadata": {},
   "source": [
    "### Importing necessary library"
   ]
  },
  {
   "cell_type": "code",
   "execution_count": 1,
   "id": "52da3df7-4329-43e1-a7b3-95a0873e8d2b",
   "metadata": {},
   "outputs": [],
   "source": [
    "import numpy as np\n",
    "import pandas as pd\n",
    "\n",
    "from sklearn.preprocessing import LabelEncoder\n",
    "from sklearn.model_selection import train_test_split\n",
    "\n",
    "from sklearn.naive_bayes import BernoulliNB\n",
    "from sklearn.naive_bayes import GaussianNB\n",
    "\n",
    "from sklearn.preprocessing import OneHotEncoder\n",
    "from sklearn.metrics import accuracy_score, classification_report, confusion_matrix\n"
   ]
  },
  {
   "cell_type": "markdown",
   "id": "4061ad91-f41e-4842-ad94-b1a9503b1bcc",
   "metadata": {},
   "source": [
    "### Load the CSV file"
   ]
  },
  {
   "cell_type": "code",
   "execution_count": 2,
   "id": "18378f14-9387-422b-b97b-acaa105eda2f",
   "metadata": {},
   "outputs": [],
   "source": [
    "CSV_DataFrame = pd.read_csv(\"adult.csv\")"
   ]
  },
  {
   "cell_type": "code",
   "execution_count": 3,
   "id": "7a551ab3-36d3-43e2-8544-1badd9cbd581",
   "metadata": {},
   "outputs": [
    {
     "name": "stdout",
     "output_type": "stream",
     "text": [
      "Encoded labels for column 'work_class': ['federal-gov' 'local-gov' 'never-worked' 'private' 'self-emp-inc'\n",
      " 'self-emp-not-inc' 'state-gov' 'without-pay']\n",
      "Encoded labels for column 'education': ['assoc-acdm' 'assoc-voc' 'bachelors' 'doctorate' 'high-school' 'masters'\n",
      " 'prof-school' 'school' 'some-college']\n",
      "Encoded labels for column 'marital_status': ['divorced' 'married-af-spouse' 'married-civ-spouse'\n",
      " 'married-spouse-absent' 'never-married' 'separated' 'widowed']\n",
      "Encoded labels for column 'occupation': ['adm-clerical' 'armed-forces' 'craft-repair' 'exec-managerial'\n",
      " 'farming-fishing' 'handlers-cleaners' 'machine-op-inspct' 'other-service'\n",
      " 'priv-house-serv' 'prof-specialty' 'protective-serv' 'sales'\n",
      " 'tech-support' 'transport-moving']\n",
      "Encoded labels for column 'relationship': ['husband' 'not-in-family' 'other-relative' 'own-child' 'unmarried' 'wife']\n",
      "Encoded labels for column 'race': ['amer-indian-eskimo' 'asian-pac-islander' 'black' 'other' 'white']\n",
      "Encoded labels for column 'sex': ['female' 'male']\n",
      "Encoded labels for column 'native_country': ['Cambodia' 'Canada' 'China' 'Columbia' 'Cuba' 'Dominican-Republic'\n",
      " 'Ecuador' 'El-Salvador' 'England' 'France' 'Germany' 'Greece' 'Guatemala'\n",
      " 'Haiti' 'Holand-Netherlands' 'Honduras' 'Hong' 'Hungary' 'India' 'Iran'\n",
      " 'Ireland' 'Italy' 'Jamaica' 'Japan' 'Laos' 'Mexico' 'Nicaragua'\n",
      " 'Outlying-US(Guam-USVI-etc)' 'Peru' 'Philippines' 'Poland' 'Portugal'\n",
      " 'Puerto-Rico' 'Scotland' 'South' 'Taiwan' 'Thailand' 'Trinadad&Tobago'\n",
      " 'United-States' 'Vietnam' 'Yugoslavia']\n"
     ]
    }
   ],
   "source": [
    "\n",
    "# Initialize LabelEncoder\n",
    "label_encoder = LabelEncoder()\n",
    "\n",
    "categorical_columns = [\"work_class\", \"education\", \"marital_status\", \"occupation\", \"relationship\", \"race\", \"sex\", \"native_country\"]\n",
    "\n",
    "# Iterate over each categorical column and encode its values\n",
    "for col in categorical_columns:\n",
    "    CSV_DataFrame[col] = label_encoder.fit_transform(CSV_DataFrame[col])\n",
    "    print(f\"Encoded labels for column '{col}': {label_encoder.classes_}\")"
   ]
  },
  {
   "cell_type": "markdown",
   "id": "bb7207cf-8481-4ee5-847e-bc19437783bf",
   "metadata": {},
   "source": [
    "### Handling the data imbalance for the target variable (Income)"
   ]
  },
  {
   "cell_type": "code",
   "execution_count": 4,
   "id": "f2e1e085-8807-4502-a3e5-3fd81cd2b9b7",
   "metadata": {},
   "outputs": [
    {
     "name": "stdout",
     "output_type": "stream",
     "text": [
      "income\n",
      "0    36912\n",
      "1    11237\n",
      "Name: count, dtype: int64\n"
     ]
    }
   ],
   "source": [
    "# Printing the value count\n",
    "income_counts = CSV_DataFrame['income'].value_counts()\n",
    "print(income_counts)"
   ]
  },
  {
   "cell_type": "code",
   "execution_count": 5,
   "id": "99b15672-0ba7-409d-ab11-781b7da4bc1c",
   "metadata": {},
   "outputs": [],
   "source": [
    "from imblearn.over_sampling import SMOTE\n",
    "# Separate features and target variable\n",
    "X = CSV_DataFrame.drop(columns=['income'])\n",
    "y = CSV_DataFrame['income']\n",
    "\n",
    "# Split the data into training and testing sets\n",
    "X_train, X_test, y_train, y_test = train_test_split(X, y, test_size=0.2, random_state=69)\n",
    "\n",
    "# Apply SMOTE for oversampling\n",
    "smote = SMOTE(random_state=42)\n",
    "X_train_resampled, y_train_resampled = smote.fit_resample(X_train, y_train)"
   ]
  },
  {
   "cell_type": "code",
   "execution_count": 6,
   "id": "3fd50702-cb49-43fc-88ae-68d8376667e5",
   "metadata": {},
   "outputs": [
    {
     "name": "stdout",
     "output_type": "stream",
     "text": [
      "income\n",
      "0    29525\n",
      "1    29525\n",
      "Name: count, dtype: int64\n"
     ]
    }
   ],
   "source": [
    "income_counts = y_train_resampled.value_counts()\n",
    "print(income_counts)"
   ]
  },
  {
   "cell_type": "code",
   "execution_count": 7,
   "id": "4c869978-027e-4435-a447-7f45199af977",
   "metadata": {
    "scrolled": true
   },
   "outputs": [
    {
     "name": "stdout",
     "output_type": "stream",
     "text": [
      "Accuracy: 0.7156801661474559\n"
     ]
    }
   ],
   "source": [
    "# Train Naive Bayes Classifier\n",
    "naive_bayes_classifier = BernoulliNB()\n",
    "naive_bayes_classifier.fit(X_train_resampled, y_train_resampled)\n",
    "\n",
    "# Make Predictions\n",
    "y_pred = naive_bayes_classifier.predict(X_test)\n",
    "\n",
    "# Evaluate the model\n",
    "accuracy = accuracy_score(y_test, y_pred)\n",
    "print(\"Accuracy:\", accuracy)\n"
   ]
  },
  {
   "cell_type": "code",
   "execution_count": 8,
   "id": "a38dd869-5600-4b88-a68d-ec69bae914f2",
   "metadata": {},
   "outputs": [
    {
     "name": "stdout",
     "output_type": "stream",
     "text": [
      "Classification Report:\n",
      "              precision    recall  f1-score   support\n",
      "\n",
      "           0       0.91      0.69      0.79      7387\n",
      "           1       0.44      0.79      0.56      2243\n",
      "\n",
      "    accuracy                           0.72      9630\n",
      "   macro avg       0.68      0.74      0.68      9630\n",
      "weighted avg       0.80      0.72      0.74      9630\n",
      "\n",
      "\n",
      "Confusion Matrix:\n",
      "[[5129 2258]\n",
      " [ 480 1763]]\n"
     ]
    }
   ],
   "source": [
    "\n",
    "# Print classification report\n",
    "print(\"Classification Report:\")\n",
    "print(classification_report(y_test, y_pred))\n",
    "\n",
    "# Generate confusion matrix\n",
    "conf_matrix = confusion_matrix(y_test, y_pred)\n",
    "print(\"\\nConfusion Matrix:\")\n",
    "print(conf_matrix)\n"
   ]
  },
  {
   "cell_type": "code",
   "execution_count": null,
   "id": "7443ca54-8845-4c8a-af11-25eeacf07df1",
   "metadata": {},
   "outputs": [],
   "source": []
  }
 ],
 "metadata": {
  "kernelspec": {
   "display_name": "Python 3 (ipykernel)",
   "language": "python",
   "name": "python3"
  },
  "language_info": {
   "codemirror_mode": {
    "name": "ipython",
    "version": 3
   },
   "file_extension": ".py",
   "mimetype": "text/x-python",
   "name": "python",
   "nbconvert_exporter": "python",
   "pygments_lexer": "ipython3",
   "version": "3.9.18"
  }
 },
 "nbformat": 4,
 "nbformat_minor": 5
}
